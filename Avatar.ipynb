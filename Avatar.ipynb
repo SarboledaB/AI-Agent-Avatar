{
  "cells": [
    {
      "cell_type": "markdown",
      "id": "7849439b",
      "metadata": {},
      "source": [
        "# Metaverse Avatar"
      ]
    },
    {
      "cell_type": "code",
      "execution_count": 42,
      "id": "5a6cc69b",
      "metadata": {
        "colab": {
          "base_uri": "https://localhost:8080/"
        },
        "id": "5a6cc69b",
        "outputId": "a0ce98af-d8ef-4943-fb67-93bdeb62a4a2"
      },
      "outputs": [
        {
          "name": "stdout",
          "output_type": "stream",
          "text": [
            "Requirement already satisfied: mesa in d:\\desktop\\ia\\env\\lib\\site-packages (1.0.0)\n",
            "Requirement already satisfied: click in d:\\desktop\\ia\\env\\lib\\site-packages (from mesa) (8.1.3)\n",
            "Requirement already satisfied: tqdm in d:\\desktop\\ia\\env\\lib\\site-packages (from mesa) (4.64.0)\n",
            "Requirement already satisfied: pandas in d:\\desktop\\ia\\env\\lib\\site-packages (from mesa) (1.4.3)\n",
            "Requirement already satisfied: tornado in d:\\desktop\\ia\\env\\lib\\site-packages (from mesa) (6.2)\n",
            "Requirement already satisfied: cookiecutter in d:\\desktop\\ia\\env\\lib\\site-packages (from mesa) (2.1.1)\n",
            "Requirement already satisfied: networkx in d:\\desktop\\ia\\env\\lib\\site-packages (from mesa) (2.8.5)\n",
            "Requirement already satisfied: numpy in d:\\desktop\\ia\\env\\lib\\site-packages (from mesa) (1.23.1)\n",
            "Requirement already satisfied: colorama in d:\\desktop\\ia\\env\\lib\\site-packages (from click->mesa) (0.4.5)\n",
            "Requirement already satisfied: binaryornot>=0.4.4 in d:\\desktop\\ia\\env\\lib\\site-packages (from cookiecutter->mesa) (0.4.4)\n",
            "Requirement already satisfied: pyyaml>=5.3.1 in d:\\desktop\\ia\\env\\lib\\site-packages (from cookiecutter->mesa) (6.0)\n",
            "Requirement already satisfied: requests>=2.23.0 in d:\\desktop\\ia\\env\\lib\\site-packages (from cookiecutter->mesa) (2.28.1)\n",
            "Requirement already satisfied: jinja2-time>=0.2.0 in d:\\desktop\\ia\\env\\lib\\site-packages (from cookiecutter->mesa) (0.2.0)\n",
            "Requirement already satisfied: Jinja2<4.0.0,>=2.7 in d:\\desktop\\ia\\env\\lib\\site-packages (from cookiecutter->mesa) (3.1.2)\n",
            "Requirement already satisfied: python-slugify>=4.0.0 in d:\\desktop\\ia\\env\\lib\\site-packages (from cookiecutter->mesa) (6.1.2)\n",
            "Requirement already satisfied: python-dateutil>=2.8.1 in d:\\desktop\\ia\\env\\lib\\site-packages (from pandas->mesa) (2.8.2)\n",
            "Requirement already satisfied: pytz>=2020.1 in d:\\desktop\\ia\\env\\lib\\site-packages (from pandas->mesa) (2022.1)\n",
            "Requirement already satisfied: chardet>=3.0.2 in d:\\desktop\\ia\\env\\lib\\site-packages (from binaryornot>=0.4.4->cookiecutter->mesa) (5.0.0)\n",
            "Requirement already satisfied: MarkupSafe>=2.0 in d:\\desktop\\ia\\env\\lib\\site-packages (from Jinja2<4.0.0,>=2.7->cookiecutter->mesa) (2.1.1)\n",
            "Requirement already satisfied: arrow in d:\\desktop\\ia\\env\\lib\\site-packages (from jinja2-time>=0.2.0->cookiecutter->mesa) (1.2.2)\n",
            "Requirement already satisfied: six>=1.5 in d:\\desktop\\ia\\env\\lib\\site-packages (from python-dateutil>=2.8.1->pandas->mesa) (1.16.0)\n",
            "Requirement already satisfied: text-unidecode>=1.3 in d:\\desktop\\ia\\env\\lib\\site-packages (from python-slugify>=4.0.0->cookiecutter->mesa) (1.3)\n",
            "Requirement already satisfied: charset-normalizer<3,>=2 in d:\\desktop\\ia\\env\\lib\\site-packages (from requests>=2.23.0->cookiecutter->mesa) (2.1.0)\n",
            "Requirement already satisfied: urllib3<1.27,>=1.21.1 in d:\\desktop\\ia\\env\\lib\\site-packages (from requests>=2.23.0->cookiecutter->mesa) (1.26.11)\n",
            "Requirement already satisfied: certifi>=2017.4.17 in d:\\desktop\\ia\\env\\lib\\site-packages (from requests>=2.23.0->cookiecutter->mesa) (2022.6.15)\n",
            "Requirement already satisfied: idna<4,>=2.5 in d:\\desktop\\ia\\env\\lib\\site-packages (from requests>=2.23.0->cookiecutter->mesa) (3.3)\n",
            "Note: you may need to restart the kernel to use updated packages.\n"
          ]
        }
      ],
      "source": [
        "pip install mesa"
      ]
    },
    {
      "cell_type": "code",
      "execution_count": 43,
      "id": "16fdf274",
      "metadata": {
        "id": "16fdf274",
        "scrolled": true
      },
      "outputs": [],
      "source": [
        "from mesa import Agent,Model"
      ]
    },
    {
      "cell_type": "markdown",
      "id": "a17971f3",
      "metadata": {},
      "source": [
        "Here we define the avatar with all its functionalities"
      ]
    },
    {
      "cell_type": "code",
      "execution_count": 44,
      "id": "487d6566",
      "metadata": {
        "id": "487d6566"
      },
      "outputs": [],
      "source": [
        "class Agent_Avatar(Agent):\n",
        "    subjects = {}\n",
        "    preferences = {}\n",
        "\n",
        "    # First Deliverable\n",
        "    def __init__(self):\n",
        "        print('Hello human, I am your avatar, you can configure me to be as similar to you as possible, my creators are Anthony Garcia, Sebastian Arboleda and Katherin Valencia.')\n",
        "\n",
        "    # Second Deliverable\n",
        "    def setScheduleOptions(self, subjects, preferences):\n",
        "        self.subjects = subjects\n",
        "        self.preferences = preferences\n",
        "\n",
        "    def getBetterSchedule(self):\n",
        "        independent, schedule = self.__isIndependent(list(self.subjects.keys()))\n",
        "\n",
        "        print(\"============== BETTER WAY TO CHOOSE SUBJECTS ==============\")\n",
        "        score = 0\n",
        "        for h in schedule:\n",
        "            subject, dayTime = h\n",
        "            score += dayTime[1]\n",
        "            print('Subject: %s, Schedule: %s, Score: %s' % (subject, str(dayTime[0]), dayTime[1]))\n",
        "        print('TOTAL SCORE: %i' % score)\n",
        "\n",
        "    def __isIndependent(self, subjs):\n",
        "        '''Determines if a set of subjects is independent'''\n",
        "        subjs = self.__orderSubjects(subjs)\n",
        "        if len(subjs) == 0:\n",
        "            return False, []\n",
        "        score, independent = self.__overlap(subjs)\n",
        "                        \n",
        "        return True, independent\n",
        "\n",
        "    def __orderSubjects(self, subjs):\n",
        "        ordered = []\n",
        "        for sub in subjs:\n",
        "            ordered.append([\n",
        "                sub, self.preferences['subjects'][sub]\n",
        "            ])\n",
        "            ordered = sorted(ordered, key=lambda d: d[1], reverse=True)\n",
        "        subs = []\n",
        "        for i in ordered:\n",
        "            subs.append(i[0])\n",
        "        return subs\n",
        "\n",
        "    def __overlap(self, subjs):\n",
        "        return self.__recursiveOverlap([], subjs)\n",
        "\n",
        "    def __recursiveOverlap(self, actualSchedule, subjs):\n",
        "        if len(subjs) == 0:\n",
        "            return 0, actualSchedule\n",
        "        actualSbj = subjs[0]\n",
        "        currentScore = 0\n",
        "        actualScheduleCopy = actualSchedule.copy()\n",
        "\n",
        "        for i in self.subjects[actualSbj]:\n",
        "            if not self.__overlapClass(actualSchedule, i):\n",
        "                newScore = self.__getScore(actualSbj, i)\n",
        "                schedule = actualScheduleCopy.copy()\n",
        "                schedule.append((actualSbj, (i, newScore)))\n",
        "                score, schedule = self.__recursiveOverlap(schedule, subjs[1:])\n",
        "                if score + newScore > currentScore:\n",
        "                    actualSchedule = actualScheduleCopy.copy()\n",
        "                    currentScore = score + newScore\n",
        "                    actualSchedule = schedule\n",
        "            score, schedule = self.__recursiveOverlap(actualSchedule, subjs[1:])\n",
        "            if score > currentScore:\n",
        "                actualSchedule = actualScheduleCopy.copy()\n",
        "                currentScore = score\n",
        "                actualSchedule = schedule\n",
        "        return currentScore, actualSchedule\n",
        "\n",
        "\n",
        "    def __overlapClass(self, schedulesList, actualSchedule):\n",
        "        overlap = True\n",
        "        for h2 in actualSchedule:\n",
        "            currentOverlap = False\n",
        "            for schedule in schedulesList:\n",
        "                classes = schedule[1][0]\n",
        "                for h1 in classes:\n",
        "                    if h1[0] == h2[0]:\n",
        "                        # Which one starts before\n",
        "                        if h1[1] <= h2[1]:\n",
        "                            first, second = h1, h2  \n",
        "                        else:\n",
        "                            first, second = h2, h1\n",
        "                        currentOverlap = currentOverlap or first[2] > second[1]\n",
        "            overlap = overlap and currentOverlap\n",
        "        return overlap\n",
        "\n",
        "    def __getScore(self, subj, schedule):\n",
        "        subjScore = self.preferences['subjects'][subj]\n",
        "        scheduleScore = 0.0\n",
        "        for i in schedule: \n",
        "            scheduleScore += self.preferences['days'][i[0]]\n",
        "        return scheduleScore/len(schedule) + subjScore\n"
      ]
    },
    {
      "cell_type": "markdown",
      "id": "ccac7b5c",
      "metadata": {},
      "source": [
        "Test data for Second Deliverable"
      ]
    },
    {
      "cell_type": "code",
      "execution_count": 45,
      "id": "6e920c8d",
      "metadata": {},
      "outputs": [],
      "source": [
        "subjects = {\n",
        "    \"AI introduction\": [[(\"Monday\",\"0830\",\"1130\")], [(\"Friday\", \"0830\",\"1130\")]] ,\n",
        "    \"Modern SW development processes\":  [[(\"Friday\",\"1800\",\"2100\"), (\"Saturday\", \"0800\",\"1100\")]],\n",
        "    \"Projects management\":  [[(\"Monday\",\"0600\",\"0900\")]],\n",
        "    \"UX Design\": [[(\"Wednesday\",\"1800\",\"2100\")]],\n",
        "    \"Karate\":  [[(\"Monday\",\"1630\",\"1800\")], [(\"Wednesday\", \"1630\",\"1800\")], [(\"Friday\", \"1630\",\"1800\")]],\n",
        "    \"Rest\": [[(\"Friday\",\"0400\",\"0930\")]]\n",
        "}\n",
        "\n",
        "\n",
        "preferences = {\n",
        "    \"subjects\": {\n",
        "        \"AI introduction\": 3,\n",
        "        \"Modern SW development processes\": 2,\n",
        "        \"Projects management\": 1,\n",
        "        \"UX Design\": 1,\n",
        "        \"Karate\": 2,\n",
        "        \"Rest\": 3,\n",
        "    },\n",
        "    \"days\" : {\n",
        "        \"Monday\": 2,\n",
        "        \"Tuesday\": 4,\n",
        "        \"Wednesday\": 4,\n",
        "        \"Thursday\": 4,\n",
        "        \"Friday\": 3,\n",
        "        \"Saturday\": 1,\n",
        "    },\n",
        "}"
      ]
    },
    {
      "cell_type": "markdown",
      "id": "71a1bc5a",
      "metadata": {},
      "source": [
        "Here we define the Model"
      ]
    },
    {
      "cell_type": "code",
      "execution_count": 46,
      "id": "13aeacc4",
      "metadata": {
        "id": "13aeacc4"
      },
      "outputs": [],
      "source": [
        "class Model_Avatar(Model):\n",
        "    agent = {}\n",
        "\n",
        "    def __init__(self):\n",
        "        self.agent = Agent_Avatar()\n",
        "\n",
        "    def secondDeliverable(self):\n",
        "        self.agent.setScheduleOptions(subjects, preferences)\n",
        "        self.agent.getBetterSchedule()"
      ]
    },
    {
      "cell_type": "code",
      "execution_count": null,
      "metadata": {},
      "outputs": [],
      "source": []
    },
    {
      "cell_type": "code",
      "execution_count": 47,
      "id": "39cac39b",
      "metadata": {
        "colab": {
          "base_uri": "https://localhost:8080/"
        },
        "id": "39cac39b",
        "outputId": "5d2461b5-e1f1-4acd-a854-ea18fe71ba99"
      },
      "outputs": [
        {
          "name": "stdout",
          "output_type": "stream",
          "text": [
            "Hello human, I am your avatar, you can configure me to be as similar to you as possible, my creators are Anthony Garcia, Sebastian Arboleda and Katherin Valencia.\n"
          ]
        }
      ],
      "source": [
        "Avatar = Model_Avatar()"
      ]
    },
    {
      "cell_type": "markdown",
      "id": "9d973e0e",
      "metadata": {},
      "source": [
        "## Call for the Search Problem (2nd Deliverable)\n"
      ]
    },
    {
      "cell_type": "code",
      "execution_count": 48,
      "id": "1cdbf293",
      "metadata": {},
      "outputs": [
        {
          "name": "stdout",
          "output_type": "stream",
          "text": [
            "============== BETTER WAY TO CHOOSE SUBJECTS ==============\n",
            "Subject: AI introduction, Schedule: [('Monday', '0830', '1130')], Score: 5.0\n",
            "Subject: Rest, Schedule: [('Friday', '0400', '0930')], Score: 6.0\n",
            "Subject: Modern SW development processes, Schedule: [('Friday', '1800', '2100'), ('Saturday', '0800', '1100')], Score: 4.0\n",
            "Subject: Karate, Schedule: [('Wednesday', '1630', '1800')], Score: 6.0\n",
            "Subject: UX Design, Schedule: [('Wednesday', '1800', '2100')], Score: 5.0\n",
            "TOTAL SCORE: 26\n"
          ]
        }
      ],
      "source": [
        "Avatar.secondDeliverable()"
      ]
    }
  ],
  "metadata": {
    "colab": {
      "name": "PresentacionAvatar.ipynb",
      "provenance": []
    },
    "kernelspec": {
      "display_name": "Python 3.8.5 ('env': venv)",
      "language": "python",
      "name": "python3"
    },
    "language_info": {
      "codemirror_mode": {
        "name": "ipython",
        "version": 3
      },
      "file_extension": ".py",
      "mimetype": "text/x-python",
      "name": "python",
      "nbconvert_exporter": "python",
      "pygments_lexer": "ipython3",
      "version": "3.8.5"
    },
    "vscode": {
      "interpreter": {
        "hash": "4037ec2e15855e2c8b28a4dd98d080129e36884da667de021ec8eae3c89dd64f"
      }
    }
  },
  "nbformat": 4,
  "nbformat_minor": 5
}
