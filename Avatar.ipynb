{
  "cells": [
    {
      "cell_type": "markdown",
      "id": "7849439b",
      "metadata": {},
      "source": [
        "# Metaverse Avatar"
      ]
    },
    {
      "cell_type": "code",
      "execution_count": 20,
      "id": "5a6cc69b",
      "metadata": {
        "colab": {
          "base_uri": "https://localhost:8080/"
        },
        "id": "5a6cc69b",
        "outputId": "a0ce98af-d8ef-4943-fb67-93bdeb62a4a2"
      },
      "outputs": [
        {
          "name": "stdout",
          "output_type": "stream",
          "text": [
            "Requirement already satisfied: mesa in d:\\desktop\\ia\\env\\lib\\site-packages (1.0.0)\n",
            "Requirement already satisfied: pandas in d:\\desktop\\ia\\env\\lib\\site-packages (from mesa) (1.4.3)\n",
            "Requirement already satisfied: cookiecutter in d:\\desktop\\ia\\env\\lib\\site-packages (from mesa) (2.1.1)\n",
            "Requirement already satisfied: tqdm in d:\\desktop\\ia\\env\\lib\\site-packages (from mesa) (4.64.0)\n",
            "Requirement already satisfied: numpy in d:\\desktop\\ia\\env\\lib\\site-packages (from mesa) (1.23.1)\n",
            "Requirement already satisfied: tornado in d:\\desktop\\ia\\env\\lib\\site-packages (from mesa) (6.2)\n",
            "Requirement already satisfied: networkx in d:\\desktop\\ia\\env\\lib\\site-packages (from mesa) (2.8.5)\n",
            "Requirement already satisfied: click in d:\\desktop\\ia\\env\\lib\\site-packages (from mesa) (8.1.3)\n",
            "Requirement already satisfied: colorama in d:\\desktop\\ia\\env\\lib\\site-packages (from click->mesa) (0.4.5)\n",
            "Requirement already satisfied: requests>=2.23.0 in d:\\desktop\\ia\\env\\lib\\site-packages (from cookiecutter->mesa) (2.28.1)\n",
            "Requirement already satisfied: jinja2-time>=0.2.0 in d:\\desktop\\ia\\env\\lib\\site-packages (from cookiecutter->mesa) (0.2.0)\n",
            "Requirement already satisfied: python-slugify>=4.0.0 in d:\\desktop\\ia\\env\\lib\\site-packages (from cookiecutter->mesa) (6.1.2)\n",
            "Requirement already satisfied: Jinja2<4.0.0,>=2.7 in d:\\desktop\\ia\\env\\lib\\site-packages (from cookiecutter->mesa) (3.1.2)\n",
            "Requirement already satisfied: binaryornot>=0.4.4 in d:\\desktop\\ia\\env\\lib\\site-packages (from cookiecutter->mesa) (0.4.4)\n",
            "Requirement already satisfied: pyyaml>=5.3.1 in d:\\desktop\\ia\\env\\lib\\site-packages (from cookiecutter->mesa) (6.0)\n",
            "Requirement already satisfied: python-dateutil>=2.8.1 in d:\\desktop\\ia\\env\\lib\\site-packages (from pandas->mesa) (2.8.2)\n",
            "Requirement already satisfied: pytz>=2020.1 in d:\\desktop\\ia\\env\\lib\\site-packages (from pandas->mesa) (2022.1)\n",
            "Requirement already satisfied: chardet>=3.0.2 in d:\\desktop\\ia\\env\\lib\\site-packages (from binaryornot>=0.4.4->cookiecutter->mesa) (5.0.0)\n",
            "Requirement already satisfied: MarkupSafe>=2.0 in d:\\desktop\\ia\\env\\lib\\site-packages (from Jinja2<4.0.0,>=2.7->cookiecutter->mesa) (2.1.1)\n",
            "Requirement already satisfied: arrow in d:\\desktop\\ia\\env\\lib\\site-packages (from jinja2-time>=0.2.0->cookiecutter->mesa) (1.2.2)\n",
            "Requirement already satisfied: six>=1.5 in d:\\desktop\\ia\\env\\lib\\site-packages (from python-dateutil>=2.8.1->pandas->mesa) (1.16.0)\n",
            "Requirement already satisfied: text-unidecode>=1.3 in d:\\desktop\\ia\\env\\lib\\site-packages (from python-slugify>=4.0.0->cookiecutter->mesa) (1.3)\n",
            "Requirement already satisfied: urllib3<1.27,>=1.21.1 in d:\\desktop\\ia\\env\\lib\\site-packages (from requests>=2.23.0->cookiecutter->mesa) (1.26.11)\n",
            "Requirement already satisfied: charset-normalizer<3,>=2 in d:\\desktop\\ia\\env\\lib\\site-packages (from requests>=2.23.0->cookiecutter->mesa) (2.1.0)\n",
            "Requirement already satisfied: certifi>=2017.4.17 in d:\\desktop\\ia\\env\\lib\\site-packages (from requests>=2.23.0->cookiecutter->mesa) (2022.6.15)\n",
            "Requirement already satisfied: idna<4,>=2.5 in d:\\desktop\\ia\\env\\lib\\site-packages (from requests>=2.23.0->cookiecutter->mesa) (3.3)\n",
            "Note: you may need to restart the kernel to use updated packages.\n"
          ]
        }
      ],
      "source": [
        "pip install mesa"
      ]
    },
    {
      "cell_type": "code",
      "execution_count": 21,
      "id": "16fdf274",
      "metadata": {
        "id": "16fdf274",
        "scrolled": true
      },
      "outputs": [],
      "source": [
        "from mesa import Agent,Model"
      ]
    },
    {
      "cell_type": "markdown",
      "id": "a17971f3",
      "metadata": {},
      "source": [
        "Here we define the avatar with all its functionalities"
      ]
    },
    {
      "cell_type": "code",
      "execution_count": 22,
      "id": "487d6566",
      "metadata": {
        "id": "487d6566"
      },
      "outputs": [],
      "source": [
        "class Agent_Avatar(Agent):\n",
        "    subjects = {}\n",
        "    preferences = {}\n",
        "\n",
        "    # First Deliverable\n",
        "    def __init__(self):\n",
        "        print('Hello human, I am your avatar, you can configure me to be as similar to you as possible, my creators are Anthony Garcia, Sebastian Arboleda and Katherin Valencia.')\n",
        "\n",
        "    # Second Deliverable\n",
        "    def setScheduleOptions(self, subjects, preferences):\n",
        "        self.subjects = subjects\n",
        "        self.preferences = preferences\n",
        "\n",
        "    def getBetterSchedule(self):\n",
        "        independent, schedule = self.__isIndependent(list(self.subjects.keys()))\n",
        "\n",
        "        print(\"============== BETTER WAY TO CHOOSE SUBJECTS ==============\")\n",
        "        score = 0\n",
        "        for h in schedule:\n",
        "            subject, dayTime = h\n",
        "            score += dayTime[1]\n",
        "            print('Subject: %s, Schedule: %s, Score: %s' % (subject, str(dayTime[0]), dayTime[1]))\n",
        "        print('TOTAL SCORE: %i' % score)\n",
        "\n",
        "    def __isIndependent(self, subjs):\n",
        "        '''Determines if a set of subjects is independent'''\n",
        "        subjs = self.__orderSubjects(subjs)\n",
        "        if len(subjs) == 0:\n",
        "            return False, []\n",
        "        score, independent = self.__overlap(subjs)\n",
        "                        \n",
        "        return True, independent\n",
        "\n",
        "    def __orderSubjects(self, subjs):\n",
        "        ordered = []\n",
        "        for sub in subjs:\n",
        "            ordered.append([\n",
        "                sub, self.preferences['subjects'][sub]\n",
        "            ])\n",
        "            ordered = sorted(ordered, key=lambda d: d[1], reverse=True)\n",
        "        subs = []\n",
        "        for i in ordered:\n",
        "            subs.append(i[0])\n",
        "        return subs\n",
        "\n",
        "    def __overlap(self, subjs):\n",
        "        return self.__recursiveOverlap([], subjs)\n",
        "\n",
        "    def __recursiveOverlap(self, actualSchedule, subjs):\n",
        "        if len(subjs) == 0:\n",
        "            return 0, actualSchedule\n",
        "        actualSbj = subjs[0]\n",
        "        currentScore = 0\n",
        "        actualScheduleCopy = actualSchedule.copy()\n",
        "\n",
        "        for i in self.subjects[actualSbj]:\n",
        "            if not self.__overlapClass(actualSchedule, i):\n",
        "                newScore = self.__getScore(actualSbj, i)\n",
        "                schedule = actualScheduleCopy.copy()\n",
        "                schedule.append((actualSbj, (i, newScore)))\n",
        "                score, schedule = self.__recursiveOverlap(schedule, subjs[1:])\n",
        "                if score + newScore > currentScore:\n",
        "                    actualSchedule = actualScheduleCopy.copy()\n",
        "                    currentScore = score + newScore\n",
        "                    actualSchedule = schedule\n",
        "            score, schedule = self.__recursiveOverlap(actualSchedule, subjs[1:])\n",
        "            if score > currentScore:\n",
        "                actualSchedule = actualScheduleCopy.copy()\n",
        "                currentScore = score\n",
        "                actualSchedule = schedule\n",
        "        return currentScore, actualSchedule\n",
        "\n",
        "\n",
        "    def __overlapClass(self, schedulesList, actualSchedule):\n",
        "        overlap = True\n",
        "        for h2 in actualSchedule:\n",
        "            currentOverlap = False\n",
        "            for schedule in schedulesList:\n",
        "                classes = schedule[1][0]\n",
        "                for h1 in classes:\n",
        "                    if h1[0] == h2[0]:\n",
        "                        # Which one starts before\n",
        "                        if h1[1] <= h2[1]:\n",
        "                            first, second = h1, h2  \n",
        "                        else:\n",
        "                            first, second = h2, h1\n",
        "                        currentOverlap = currentOverlap or first[2] > second[1]\n",
        "            overlap = overlap and currentOverlap\n",
        "        return overlap\n",
        "\n",
        "    def __getScore(self, subj, schedule):\n",
        "        subjScore = self.preferences['subjects'][subj]\n",
        "        scheduleScore = 0.0\n",
        "        for i in schedule: \n",
        "            scheduleScore += self.preferences['days'][i[0]]\n",
        "        return scheduleScore/len(schedule) + subjScore\n"
      ]
    },
    {
      "cell_type": "markdown",
      "id": "ccac7b5c",
      "metadata": {},
      "source": [
        "Test data for Second Deliverable"
      ]
    },
    {
      "cell_type": "code",
      "execution_count": 23,
      "id": "6e920c8d",
      "metadata": {},
      "outputs": [],
      "source": [
        "subjects = {\n",
        "    \"AI introduction\": [[(\"Monday\",\"0830\",\"1130\")], [(\"Friday\", \"0830\",\"1130\")]] ,\n",
        "    \"Modern SW development processes\":  [[(\"Friday\",\"1800\",\"2100\"), (\"Saturday\", \"0800\",\"1100\")]],\n",
        "    \"Projects management\":  [[(\"Monday\",\"0600\",\"0900\")]],\n",
        "    \"UX Design\": [[(\"Wednesday\",\"1800\",\"2100\")]],\n",
        "    \"Karate\":  [[(\"Monday\",\"1630\",\"1800\")], [(\"Wednesday\", \"1630\",\"1800\")], [(\"Friday\", \"1630\",\"1800\")]],\n",
        "    \"Rest\": [[(\"Friday\",\"0400\",\"0930\")]]\n",
        "}\n",
        "\n",
        "\n",
        "preferences = {\n",
        "    \"subjects\": {\n",
        "        \"AI introduction\": 3,\n",
        "        \"Modern SW development processes\": 2,\n",
        "        \"Projects management\": 1,\n",
        "        \"UX Design\": 1,\n",
        "        \"Karate\": 2,\n",
        "        \"Rest\": 3,\n",
        "    },\n",
        "    \"days\" : {\n",
        "        \"Monday\": 2,\n",
        "        \"Tuesday\": 4,\n",
        "        \"Wednesday\": 4,\n",
        "        \"Thursday\": 4,\n",
        "        \"Friday\": 3,\n",
        "        \"Saturday\": 1,\n",
        "    },\n",
        "}"
      ]
    },
    {
      "cell_type": "markdown",
      "id": "71a1bc5a",
      "metadata": {},
      "source": [
        "Here we define the Model"
      ]
    },
    {
      "cell_type": "code",
      "execution_count": 24,
      "id": "13aeacc4",
      "metadata": {
        "id": "13aeacc4"
      },
      "outputs": [],
      "source": [
        "class Model_Avatar(Model):\n",
        "    agent = {}\n",
        "\n",
        "    def __init__(self):\n",
        "        self.agent = Agent_Avatar()\n",
        "\n",
        "    def secondDeliverable(self):\n",
        "        self.agent.setScheduleOptions(subjects, preferences)\n",
        "        self.agent.getBetterSchedule()"
      ]
    },
    {
      "cell_type": "markdown",
      "id": "8139fd7a",
      "metadata": {},
      "source": [
        "## Call for Hello World (1st Deliverable)"
      ]
    },
    {
      "cell_type": "code",
      "execution_count": 25,
      "id": "39cac39b",
      "metadata": {
        "colab": {
          "base_uri": "https://localhost:8080/"
        },
        "id": "39cac39b",
        "outputId": "5d2461b5-e1f1-4acd-a854-ea18fe71ba99"
      },
      "outputs": [
        {
          "name": "stdout",
          "output_type": "stream",
          "text": [
            "Hello human, I am your avatar, you can configure me to be as similar to you as possible, my creators are Anthony Garcia, Sebastian Arboleda and Katherin Valencia.\n"
          ]
        }
      ],
      "source": [
        "Avatar = Model_Avatar()"
      ]
    },
    {
      "cell_type": "markdown",
      "id": "9d973e0e",
      "metadata": {},
      "source": [
        "## Call for the Search Problem (2nd Deliverable)\n"
      ]
    },
    {
      "cell_type": "code",
      "execution_count": 26,
      "id": "1cdbf293",
      "metadata": {},
      "outputs": [
        {
          "name": "stdout",
          "output_type": "stream",
          "text": [
            "============== BETTER WAY TO CHOOSE SUBJECTS ==============\n",
            "Subject: AI introduction, Schedule: [('Monday', '0830', '1130')], Score: 5.0\n",
            "Subject: Rest, Schedule: [('Friday', '0400', '0930')], Score: 6.0\n",
            "Subject: Modern SW development processes, Schedule: [('Friday', '1800', '2100'), ('Saturday', '0800', '1100')], Score: 4.0\n",
            "Subject: Karate, Schedule: [('Wednesday', '1630', '1800')], Score: 6.0\n",
            "Subject: UX Design, Schedule: [('Wednesday', '1800', '2100')], Score: 5.0\n",
            "TOTAL SCORE: 26\n"
          ]
        }
      ],
      "source": [
        "Avatar.secondDeliverable()"
      ]
    },
    {
      "cell_type": "code",
      "execution_count": 27,
      "id": "55e3bebd",
      "metadata": {},
      "outputs": [
        {
          "name": "stdout",
          "output_type": "stream",
          "text": [
            "Requirement already satisfied: pyswip in d:\\desktop\\ia\\env\\lib\\site-packages (0.2.10)\n",
            "Note: you may need to restart the kernel to use updated packages.\n"
          ]
        }
      ],
      "source": [
        "%pip install pyswip"
      ]
    },
    {
      "cell_type": "markdown",
      "id": "6970b7f9",
      "metadata": {},
      "source": [
        "# 3rd Deliverable"
      ]
    },
    {
      "cell_type": "code",
      "execution_count": 28,
      "id": "47840f14",
      "metadata": {},
      "outputs": [],
      "source": [
        "from pyswip import Prolog"
      ]
    },
    {
      "cell_type": "code",
      "execution_count": 29,
      "id": "c5291c27",
      "metadata": {},
      "outputs": [],
      "source": [
        "prolog = Prolog()\n",
        "prolog.consult(\"prolog.pl\")"
      ]
    },
    {
      "cell_type": "markdown",
      "id": "7da2b017",
      "metadata": {},
      "source": [
        "Here is defined the First chronicle"
      ]
    },
    {
      "cell_type": "code",
      "execution_count": 30,
      "id": "671dcf56",
      "metadata": {},
      "outputs": [],
      "source": [
        "def isUnderstanding(subject):\n",
        "    query_args = \"understood_class(%s,X)\" % (subject.lower().replace(\" \",\"_\"))\n",
        "    query = list(prolog.query(query_args))\n",
        "    count = 0\n",
        "    for res in query:\n",
        "        count+= res[\"X\"]\n",
        "    return (count/len(query)) >= 0.8\n",
        "\n",
        "subjects = [\n",
        "    \"AI Introduction\",\n",
        "    \"Modern SW development processes\",\n",
        "    \"Projects management\",\n",
        "    \"UX Design\"\n",
        "]\n",
        "\n",
        "def calcUnderstanding():\n",
        "    for i in subjects:\n",
        "        print(\"Is understanding %s?\" % (i))\n",
        "        print(isUnderstanding(i))"
      ]
    },
    {
      "cell_type": "markdown",
      "id": "d41b94a6",
      "metadata": {},
      "source": [
        "Here is defined the Second Chronicle"
      ]
    },
    {
      "cell_type": "code",
      "execution_count": 31,
      "id": "047cd2eb",
      "metadata": {},
      "outputs": [],
      "source": [
        "def getAvailableTime():\n",
        "    query = prolog.query(\"week(X,Y)\")\n",
        "    freeTime = {}\n",
        "    for res in query:\n",
        "        freeTime[res[\"X\"]] = int(res[\"Y\"])\n",
        "    return freeTime\n",
        "\n",
        "def printAvailableTime():\n",
        "    for week, time in getAvailableTime().items():\n",
        "        print(\"Available time for week %s: %i\" % (week, time))\n",
        "\n",
        "def  addHomework(name, week, time):\n",
        "    print(\"Adding Homework %s...\" % (name))\n",
        "    query = prolog.query(\"add_homework(%s,%s,%s,X)\" % (name.lower().replace(\" \",\"_\"), week.lower(), str(time)))\n",
        "    for res in query:\n",
        "        print(\"AvailableTime: \"+ str(res[\"X\"]))\n",
        "\n",
        "def  completeHomework(name, time):\n",
        "    print(\"Completed Homework %s...\" % (name))\n",
        "    query = prolog.query(\"complete_homework(%s,%s,X)\" % (name.lower().replace(\" \",\"_\"), str(time)))\n",
        "    for res in query:\n",
        "        print(\"AvailableTime: \"+ str(res[\"X\"]))\n",
        "\n",
        "def listPendingHomeworks(week):\n",
        "    print(\"Pending Homeworks for week %s:\" % (week))\n",
        "    query = prolog.query(\"homework(X,%s,Y)\" % (week.lower()))\n",
        "    for res in query:\n",
        "        print(\"Homework: %s, Time: %s\" % (res[\"X\"],res[\"Y\"]))\n",
        "\n",
        "def addHomeworks():\n",
        "    addHomework(\"Reading Forum\", \"one\", 3)\n",
        "    addHomework(\"Task 1\", \"one\", 3)\n",
        "    addHomework(\"Task 2\", \"one\", 6)\n",
        "    addHomework(\"Task 3\", \"one\", 10)\n",
        "    addHomework(\"Task 4\", \"one\", 8)\n",
        "    addHomework(\"UX Diagram\", \"two\", 4)\n",
        "    addHomework(\"Presentations \", \"two\", 3)\n",
        "    addHomework(\"PMDS Test\", \"three\", 10)\n",
        "    addHomework(\"AI Agent\", \"four\", 3)\n",
        "    addHomework(\"Task 5\", \"four\", 10)\n",
        "    addHomework(\"Task 6\", \"four\", 5)\n",
        "    addHomework(\"Task 7\", \"four\", 4)\n",
        "    addHomework(\"Task 8\", \"four\", 9)\n",
        "    addHomework(\"Task 9\", \"four\", 10)\n",
        "    addHomework(\"Task 10\", \"four\", 10)\n",
        "    addHomework(\"Delivery 3\", \"four\", 8)"
      ]
    },
    {
      "cell_type": "code",
      "execution_count": 32,
      "id": "25c988b2",
      "metadata": {},
      "outputs": [
        {
          "name": "stdout",
          "output_type": "stream",
          "text": [
            "Adding Homework Reading Forum...\n",
            "AvailableTime: 103\n",
            "AvailableTime: 73\n",
            "Adding Homework Task 1...\n",
            "AvailableTime: 100\n",
            "AvailableTime: 70\n",
            "Adding Homework Task 2...\n",
            "AvailableTime: 94\n",
            "AvailableTime: 64\n",
            "Adding Homework Task 3...\n",
            "AvailableTime: 84\n",
            "AvailableTime: 54\n",
            "Adding Homework Task 4...\n",
            "AvailableTime: 76\n",
            "AvailableTime: 46\n",
            "Adding Homework UX Diagram...\n",
            "AvailableTime: 102\n",
            "AvailableTime: 95\n",
            "Adding Homework Presentations ...\n",
            "AvailableTime: 99\n",
            "AvailableTime: 92\n",
            "Adding Homework PMDS Test...\n",
            "AvailableTime: 87\n",
            "AvailableTime: 77\n",
            "AvailableTime: 77\n",
            "Adding Homework AI Agent...\n",
            "AvailableTime: 94\n",
            "AvailableTime: 30\n",
            "Adding Homework Task 5...\n",
            "AvailableTime: 84\n",
            "AvailableTime: 20\n",
            "Adding Homework Task 6...\n",
            "AvailableTime: 79\n",
            "AvailableTime: 15\n",
            "Adding Homework Task 7...\n",
            "AvailableTime: 75\n",
            "AvailableTime: 11\n",
            "Adding Homework Task 8...\n",
            "AvailableTime: 66\n",
            "AvailableTime: 2\n",
            "Adding Homework Task 9...\n",
            "AvailableTime: 56\n",
            "AvailableTime: -8\n",
            "Adding Homework Task 10...\n",
            "AvailableTime: 46\n",
            "AvailableTime: -18\n",
            "Adding Homework Delivery 3...\n",
            "AvailableTime: 38\n",
            "AvailableTime: -26\n",
            "Available time for week five: 97\n",
            "Available time for week six: 97\n",
            "Available time for week seven: 97\n",
            "Available time for week one: 46\n",
            "Available time for week two: 92\n",
            "Available time for week three: 77\n",
            "Available time for week four: -26\n"
          ]
        }
      ],
      "source": [
        "addHomeworks()\n",
        "printAvailableTime()"
      ]
    },
    {
      "cell_type": "code",
      "execution_count": 33,
      "id": "ed1b2189",
      "metadata": {},
      "outputs": [
        {
          "name": "stdout",
          "output_type": "stream",
          "text": [
            "Pending Homeworks for week four:\n",
            "Homework: task_5, Time: 10\n",
            "Homework: task_6, Time: 5\n",
            "Homework: task_7, Time: 4\n",
            "Homework: task_8, Time: 9\n",
            "Homework: task_9, Time: 10\n",
            "Homework: task_10, Time: 10\n",
            "Homework: delivery_3, Time: 8\n",
            "Homework: ai_agent, Time: 3\n",
            "Homework: ai_agent, Time: 3\n",
            "Homework: task_5, Time: 10\n",
            "Homework: task_5, Time: 10\n",
            "Homework: task_6, Time: 5\n",
            "Homework: task_6, Time: 5\n",
            "Homework: task_7, Time: 4\n",
            "Homework: task_7, Time: 4\n",
            "Homework: task_8, Time: 9\n",
            "Homework: task_8, Time: 9\n",
            "Homework: task_9, Time: 10\n",
            "Homework: task_9, Time: 10\n",
            "Homework: task_10, Time: 10\n",
            "Homework: task_10, Time: 10\n",
            "Homework: delivery_3, Time: 8\n",
            "Homework: delivery_3, Time: 8\n",
            "Completed Homework AI Agent...\n",
            "AvailableTime: 33\n",
            "Pending Homeworks for week four:\n",
            "Homework: task_5, Time: 10\n",
            "Homework: task_6, Time: 5\n",
            "Homework: task_7, Time: 4\n",
            "Homework: task_8, Time: 9\n",
            "Homework: task_9, Time: 10\n",
            "Homework: task_10, Time: 10\n",
            "Homework: delivery_3, Time: 8\n",
            "Homework: task_5, Time: 10\n",
            "Homework: task_5, Time: 10\n",
            "Homework: task_6, Time: 5\n",
            "Homework: task_6, Time: 5\n",
            "Homework: task_7, Time: 4\n",
            "Homework: task_7, Time: 4\n",
            "Homework: task_8, Time: 9\n",
            "Homework: task_8, Time: 9\n",
            "Homework: task_9, Time: 10\n",
            "Homework: task_9, Time: 10\n",
            "Homework: task_10, Time: 10\n",
            "Homework: task_10, Time: 10\n",
            "Homework: delivery_3, Time: 8\n",
            "Homework: delivery_3, Time: 8\n"
          ]
        }
      ],
      "source": [
        "listPendingHomeworks(\"four\")\n",
        "completeHomework(\"AI Agent\", 8)\n",
        "listPendingHomeworks(\"four\")"
      ]
    },
    {
      "cell_type": "code",
      "execution_count": 34,
      "id": "15434227",
      "metadata": {},
      "outputs": [],
      "source": [
        "activities = {\n",
        "    \"Karate\": 16,\n",
        "    \"Reading\": 10,\n",
        "}\n",
        "\n",
        "def hasEnoughFreeTime():\n",
        "    neededTime = 0\n",
        "    for act in activities.values():\n",
        "        neededTime += act\n",
        "    weeklyTime = {}\n",
        "    for week,time in getAvailableTime().items():\n",
        "        condition = time >= neededTime\n",
        "        weeklyTime[week] = condition\n",
        "    return weeklyTime"
      ]
    },
    {
      "cell_type": "markdown",
      "id": "7ffc78c3",
      "metadata": {},
      "source": [
        "Here is defined the Third Chronicle"
      ]
    },
    {
      "cell_type": "code",
      "execution_count": 35,
      "id": "ae3fdcaa",
      "metadata": {},
      "outputs": [],
      "source": [
        "weeks = [\"one\",\"two\",\"three\",\"four\",\"five\",\"six\",\"seven\"]\n",
        "\n",
        "def isHealthy(week):\n",
        "    weeklyTime = hasEnoughFreeTime()\n",
        "    query = list(prolog.query(\"weekly_health(%s,X)\" % (week)))\n",
        "    score = 0\n",
        "    for res in query:\n",
        "        score += res[\"X\"]\n",
        "    return (score) > 0 and weeklyTime[week]\n",
        "\n",
        "def calcWeeklyHealth():\n",
        "    for i in weeks:\n",
        "        print (\"Is healthy on week %s?...\" % (i))\n",
        "        print(isHealthy(i))"
      ]
    },
    {
      "cell_type": "markdown",
      "id": "898ddadc",
      "metadata": {},
      "source": [
        "Call For first result"
      ]
    },
    {
      "cell_type": "code",
      "execution_count": 36,
      "id": "bfde499b",
      "metadata": {},
      "outputs": [
        {
          "name": "stdout",
          "output_type": "stream",
          "text": [
            "Is understanding AI Introduction?\n",
            "True\n",
            "Is understanding Modern SW development processes?\n",
            "False\n",
            "Is understanding Projects management?\n",
            "True\n",
            "Is understanding UX Design?\n",
            "True\n"
          ]
        }
      ],
      "source": [
        "calcUnderstanding()"
      ]
    },
    {
      "cell_type": "markdown",
      "id": "5a7cd16e",
      "metadata": {},
      "source": [
        "Call for second result"
      ]
    },
    {
      "cell_type": "code",
      "execution_count": 37,
      "id": "7a8e5129",
      "metadata": {},
      "outputs": [
        {
          "data": {
            "text/plain": [
              "{'five': True,\n",
              " 'six': True,\n",
              " 'seven': True,\n",
              " 'one': True,\n",
              " 'two': True,\n",
              " 'three': True,\n",
              " 'four': True}"
            ]
          },
          "execution_count": 37,
          "metadata": {},
          "output_type": "execute_result"
        }
      ],
      "source": [
        "hasEnoughFreeTime()"
      ]
    },
    {
      "cell_type": "markdown",
      "id": "02288218",
      "metadata": {},
      "source": [
        "Call for third result"
      ]
    },
    {
      "cell_type": "code",
      "execution_count": 38,
      "id": "0d5a3f1e",
      "metadata": {},
      "outputs": [
        {
          "name": "stdout",
          "output_type": "stream",
          "text": [
            "Is healthy on week one?...\n",
            "True\n",
            "Is healthy on week two?...\n",
            "True\n",
            "Is healthy on week three?...\n",
            "True\n",
            "Is healthy on week four?...\n",
            "False\n",
            "Is healthy on week five?...\n",
            "True\n",
            "Is healthy on week six?...\n",
            "False\n",
            "Is healthy on week seven?...\n",
            "True\n"
          ]
        }
      ],
      "source": [
        "calcWeeklyHealth()"
      ]
    }
  ],
  "metadata": {
    "colab": {
      "name": "PresentacionAvatar.ipynb",
      "provenance": []
    },
    "kernelspec": {
      "display_name": "Python 3.8.5 ('env': venv)",
      "language": "python",
      "name": "python3"
    },
    "language_info": {
      "codemirror_mode": {
        "name": "ipython",
        "version": 3
      },
      "file_extension": ".py",
      "mimetype": "text/x-python",
      "name": "python",
      "nbconvert_exporter": "python",
      "pygments_lexer": "ipython3",
      "version": "3.8.5"
    },
    "vscode": {
      "interpreter": {
        "hash": "4037ec2e15855e2c8b28a4dd98d080129e36884da667de021ec8eae3c89dd64f"
      }
    }
  },
  "nbformat": 4,
  "nbformat_minor": 5
}
